{
 "cells": [
  {
   "cell_type": "code",
   "execution_count": 46,
   "metadata": {},
   "outputs": [],
   "source": [
    "import math\n",
    "import pandas as pd\n",
    "from sklearn.neighbors import KNeighborsRegressor\n",
    "from sklearn.model_selection import train_test_split\n",
    "import matplotlib.pyplot as plt\n",
    "import numpy as np\n",
    "from geopy.distance import geodesic\n",
    "from scipy.optimize import minimize\n",
    "from math import sqrt"
   ]
  },
  {
   "cell_type": "markdown",
   "metadata": {},
   "source": [
    "## Treinar KNN para estimar distâncias de pontos até as BSTs"
   ]
  },
  {
   "cell_type": "code",
   "execution_count": 47,
   "metadata": {},
   "outputs": [],
   "source": [
    "bts = pd.read_csv('../data/bts.csv')\n",
    "meds_train_alunos = pd.read_csv('../data/meds_train_alunos.csv')"
   ]
  },
  {
   "cell_type": "code",
   "execution_count": 48,
   "metadata": {},
   "outputs": [
    {
     "data": {
      "text/html": [
       "<div>\n",
       "<style scoped>\n",
       "    .dataframe tbody tr th:only-of-type {\n",
       "        vertical-align: middle;\n",
       "    }\n",
       "\n",
       "    .dataframe tbody tr th {\n",
       "        vertical-align: top;\n",
       "    }\n",
       "\n",
       "    .dataframe thead th {\n",
       "        text-align: right;\n",
       "    }\n",
       "</style>\n",
       "<table border=\"1\" class=\"dataframe\">\n",
       "  <thead>\n",
       "    <tr style=\"text-align: right;\">\n",
       "      <th></th>\n",
       "      <th>ponto_id</th>\n",
       "      <th>rssi_1_1</th>\n",
       "      <th>rssi_1_2</th>\n",
       "      <th>rssi_1_3</th>\n",
       "      <th>rssi_2_1</th>\n",
       "      <th>rssi_2_2</th>\n",
       "      <th>rssi_2_3</th>\n",
       "      <th>rssi_3_1</th>\n",
       "      <th>rssi_3_2</th>\n",
       "      <th>rssi_3_3</th>\n",
       "      <th>...</th>\n",
       "      <th>indoor</th>\n",
       "      <th>bts_BTS_1_1</th>\n",
       "      <th>bts_BTS_1_2</th>\n",
       "      <th>bts_BTS_1_3</th>\n",
       "      <th>bts_BTS_2_1</th>\n",
       "      <th>bts_BTS_2_2</th>\n",
       "      <th>bts_BTS_2_3</th>\n",
       "      <th>bts_BTS_3_1</th>\n",
       "      <th>bts_BTS_3_2</th>\n",
       "      <th>bts_BTS_3_3</th>\n",
       "    </tr>\n",
       "  </thead>\n",
       "  <tbody>\n",
       "    <tr>\n",
       "      <th>0</th>\n",
       "      <td>6604</td>\n",
       "      <td>-103.705000</td>\n",
       "      <td>-110.425000</td>\n",
       "      <td>-107.381667</td>\n",
       "      <td>-110.330000</td>\n",
       "      <td>-108.345000</td>\n",
       "      <td>-106.590000</td>\n",
       "      <td>-107.153333</td>\n",
       "      <td>-102.120000</td>\n",
       "      <td>-115.00</td>\n",
       "      <td>...</td>\n",
       "      <td>True</td>\n",
       "      <td>1368.718795</td>\n",
       "      <td>1368.718795</td>\n",
       "      <td>1368.718795</td>\n",
       "      <td>818.463128</td>\n",
       "      <td>818.463128</td>\n",
       "      <td>818.463128</td>\n",
       "      <td>706.791557</td>\n",
       "      <td>706.791557</td>\n",
       "      <td>706.791557</td>\n",
       "    </tr>\n",
       "    <tr>\n",
       "      <th>1</th>\n",
       "      <td>5515</td>\n",
       "      <td>-105.225000</td>\n",
       "      <td>-115.000000</td>\n",
       "      <td>-105.210000</td>\n",
       "      <td>-115.000000</td>\n",
       "      <td>-105.835000</td>\n",
       "      <td>-115.000000</td>\n",
       "      <td>-88.470000</td>\n",
       "      <td>-94.024286</td>\n",
       "      <td>-108.12</td>\n",
       "      <td>...</td>\n",
       "      <td>True</td>\n",
       "      <td>1368.092130</td>\n",
       "      <td>1368.092130</td>\n",
       "      <td>1368.092130</td>\n",
       "      <td>828.837721</td>\n",
       "      <td>828.837721</td>\n",
       "      <td>828.837721</td>\n",
       "      <td>695.452403</td>\n",
       "      <td>695.452403</td>\n",
       "      <td>695.452403</td>\n",
       "    </tr>\n",
       "    <tr>\n",
       "      <th>2</th>\n",
       "      <td>5049</td>\n",
       "      <td>-102.610000</td>\n",
       "      <td>-115.000000</td>\n",
       "      <td>-101.380000</td>\n",
       "      <td>-115.000000</td>\n",
       "      <td>-104.295000</td>\n",
       "      <td>-97.360000</td>\n",
       "      <td>-96.980000</td>\n",
       "      <td>-99.572500</td>\n",
       "      <td>-115.00</td>\n",
       "      <td>...</td>\n",
       "      <td>True</td>\n",
       "      <td>1337.092175</td>\n",
       "      <td>1337.092175</td>\n",
       "      <td>1337.092175</td>\n",
       "      <td>826.226925</td>\n",
       "      <td>826.226925</td>\n",
       "      <td>826.226925</td>\n",
       "      <td>684.496525</td>\n",
       "      <td>684.496525</td>\n",
       "      <td>684.496525</td>\n",
       "    </tr>\n",
       "    <tr>\n",
       "      <th>3</th>\n",
       "      <td>8737</td>\n",
       "      <td>-89.140000</td>\n",
       "      <td>-97.251429</td>\n",
       "      <td>-86.642857</td>\n",
       "      <td>-96.036667</td>\n",
       "      <td>-96.592500</td>\n",
       "      <td>-92.460000</td>\n",
       "      <td>-86.813333</td>\n",
       "      <td>-102.688000</td>\n",
       "      <td>-87.27</td>\n",
       "      <td>...</td>\n",
       "      <td>False</td>\n",
       "      <td>1140.876034</td>\n",
       "      <td>1140.876034</td>\n",
       "      <td>1140.876034</td>\n",
       "      <td>1671.832565</td>\n",
       "      <td>1671.832565</td>\n",
       "      <td>1671.832565</td>\n",
       "      <td>577.624625</td>\n",
       "      <td>577.624625</td>\n",
       "      <td>577.624625</td>\n",
       "    </tr>\n",
       "    <tr>\n",
       "      <th>4</th>\n",
       "      <td>1203</td>\n",
       "      <td>-109.088333</td>\n",
       "      <td>-107.200000</td>\n",
       "      <td>-107.010000</td>\n",
       "      <td>-108.430000</td>\n",
       "      <td>-104.845714</td>\n",
       "      <td>-101.435714</td>\n",
       "      <td>-103.065000</td>\n",
       "      <td>-102.110000</td>\n",
       "      <td>-115.00</td>\n",
       "      <td>...</td>\n",
       "      <td>True</td>\n",
       "      <td>1323.048839</td>\n",
       "      <td>1323.048839</td>\n",
       "      <td>1323.048839</td>\n",
       "      <td>825.918181</td>\n",
       "      <td>825.918181</td>\n",
       "      <td>825.918181</td>\n",
       "      <td>679.480041</td>\n",
       "      <td>679.480041</td>\n",
       "      <td>679.480041</td>\n",
       "    </tr>\n",
       "  </tbody>\n",
       "</table>\n",
       "<p>5 rows × 25 columns</p>\n",
       "</div>"
      ],
      "text/plain": [
       "   ponto_id    rssi_1_1    rssi_1_2    rssi_1_3    rssi_2_1    rssi_2_2  \\\n",
       "0      6604 -103.705000 -110.425000 -107.381667 -110.330000 -108.345000   \n",
       "1      5515 -105.225000 -115.000000 -105.210000 -115.000000 -105.835000   \n",
       "2      5049 -102.610000 -115.000000 -101.380000 -115.000000 -104.295000   \n",
       "3      8737  -89.140000  -97.251429  -86.642857  -96.036667  -96.592500   \n",
       "4      1203 -109.088333 -107.200000 -107.010000 -108.430000 -104.845714   \n",
       "\n",
       "     rssi_2_3    rssi_3_1    rssi_3_2  rssi_3_3  ...  indoor  bts_BTS_1_1  \\\n",
       "0 -106.590000 -107.153333 -102.120000   -115.00  ...    True  1368.718795   \n",
       "1 -115.000000  -88.470000  -94.024286   -108.12  ...    True  1368.092130   \n",
       "2  -97.360000  -96.980000  -99.572500   -115.00  ...    True  1337.092175   \n",
       "3  -92.460000  -86.813333 -102.688000    -87.27  ...   False  1140.876034   \n",
       "4 -101.435714 -103.065000 -102.110000   -115.00  ...    True  1323.048839   \n",
       "\n",
       "   bts_BTS_1_2  bts_BTS_1_3  bts_BTS_2_1  bts_BTS_2_2  bts_BTS_2_3  \\\n",
       "0  1368.718795  1368.718795   818.463128   818.463128   818.463128   \n",
       "1  1368.092130  1368.092130   828.837721   828.837721   828.837721   \n",
       "2  1337.092175  1337.092175   826.226925   826.226925   826.226925   \n",
       "3  1140.876034  1140.876034  1671.832565  1671.832565  1671.832565   \n",
       "4  1323.048839  1323.048839   825.918181   825.918181   825.918181   \n",
       "\n",
       "   bts_BTS_3_1  bts_BTS_3_2  bts_BTS_3_3  \n",
       "0   706.791557   706.791557   706.791557  \n",
       "1   695.452403   695.452403   695.452403  \n",
       "2   684.496525   684.496525   684.496525  \n",
       "3   577.624625   577.624625   577.624625  \n",
       "4   679.480041   679.480041   679.480041  \n",
       "\n",
       "[5 rows x 25 columns]"
      ]
     },
     "execution_count": 48,
     "metadata": {},
     "output_type": "execute_result"
    }
   ],
   "source": [
    "def calculate_distances(row):\n",
    "    point_coords = (row['lat'], row['lon'])\n",
    "    distances = {}\n",
    "\n",
    "    for _, bts_row in bts.iterrows():\n",
    "        bts_coords = (bts_row['lat'], bts_row['lon'])\n",
    "        distance = geodesic(bts_coords, point_coords).meters\n",
    "        distances[f'bts_{bts_row[\"btsId\"]}'] = distance\n",
    "\n",
    "    return pd.Series(distances)\n",
    "\n",
    "meds_train_alunos = pd.concat([meds_train_alunos, meds_train_alunos.apply(calculate_distances, axis=1)], axis=1)\n",
    "meds_train_alunos.head()"
   ]
  },
  {
   "cell_type": "code",
   "execution_count": 49,
   "metadata": {},
   "outputs": [],
   "source": [
    "X = meds_train_alunos[['rssi_1_1', 'rssi_1_2', 'rssi_1_3', 'rssi_2_1', 'rssi_2_2', 'rssi_2_3', 'rssi_3_1', 'rssi_3_2', 'rssi_3_3']]\n",
    "\n",
    "y = meds_train_alunos[['bts_BTS_1_1', 'bts_BTS_1_2', 'bts_BTS_1_3','bts_BTS_2_1', 'bts_BTS_2_2', 'bts_BTS_2_3','bts_BTS_3_1', 'bts_BTS_3_2', 'bts_BTS_3_3']]"
   ]
  },
  {
   "cell_type": "code",
   "execution_count": 50,
   "metadata": {},
   "outputs": [],
   "source": [
    "X_train, X_test, y_train, y_test = train_test_split(X, y, test_size=0.1, random_state=42)"
   ]
  },
  {
   "cell_type": "code",
   "execution_count": 56,
   "metadata": {},
   "outputs": [
    {
     "name": "stdout",
     "output_type": "stream",
     "text": [
      "678 678\n"
     ]
    }
   ],
   "source": [
    "k = 3  # Número de vizinhos\n",
    "knn = KNeighborsRegressor(n_neighbors=k)\n",
    "knn.fit(X_train, y_train)\n",
    "\n",
    "y_pred_bts = knn.predict(X_test)"
   ]
  },
  {
   "cell_type": "markdown",
   "metadata": {},
   "source": [
    "## Trilateração"
   ]
  },
  {
   "cell_type": "code",
   "execution_count": 57,
   "metadata": {},
   "outputs": [
    {
     "name": "stdout",
     "output_type": "stream",
     "text": [
      "678\n"
     ]
    }
   ],
   "source": [
    "def error(point, towers, distances):\n",
    "    return sum([(sqrt((point[0] - towers[i][0])**2 + (point[1] - towers[i][1])**2) - distances[i])**2 for i in range(len(towers))])\n",
    "\n",
    "def estimate_point_coordinates(distances, towers):\n",
    "    x0 = [0, 0]    \n",
    "    result = minimize(error, x0, args=(towers, distances), method='Nelder-Mead')\n",
    "    return result.x\n",
    "\n",
    "y_pred = []\n",
    "\n",
    "for distances in y_pred_bts:\n",
    "    closest_indices = sorted(range(len(distances)), key=lambda j: distances[j])[:3]\n",
    "    closest_bts_coords = [(bts.iloc[j]['lat'], bts.iloc[j]['lon']) for j in closest_indices]\n",
    "\n",
    "    point_lat, point_lon = estimate_point_coordinates(distances, closest_bts_coords)\n",
    "\n",
    "    y_pred.append([point_lat, point_lon])\n"
   ]
  },
  {
   "cell_type": "markdown",
   "metadata": {},
   "source": [
    "#### Dataframe com as informações de erros"
   ]
  },
  {
   "cell_type": "code",
   "execution_count": 69,
   "metadata": {},
   "outputs": [],
   "source": [
    "df_with_error_info = y_test.copy()\n",
    "\n",
    "test_indices = y_test.index\n",
    "meds_test_for_testing_lines = meds_train_alunos.loc[test_indices]\n",
    "df_with_error_info['lat'] = meds_test_for_testing_lines['lat']\n",
    "df_with_error_info['lon'] = meds_test_for_testing_lines['lon']\n",
    "\n",
    "df_with_error_info['lat_pred'] = [lat for [lat, _] in y_pred]\n",
    "df_with_error_info['lon_pred'] = [lon for [_, lon] in y_pred]\n",
    "\n",
    "df_with_error_info['lat_diff'] = df_with_error_info['lat'] - df_with_error_info['lat_pred']\n",
    "df_with_error_info['lon_diff'] = df_with_error_info['lon'] - df_with_error_info['lon_pred']"
   ]
  },
  {
   "cell_type": "code",
   "execution_count": 70,
   "metadata": {},
   "outputs": [],
   "source": [
    "one_degree = 30.87\n",
    "one_kilometer = 1000\n",
    "\n",
    "df_with_error_info['lat_diff_meters'] = df_with_error_info['lat_diff'] * one_degree * one_kilometer\n",
    "df_with_error_info['lon_diff_meters'] = df_with_error_info['lon_diff'] * one_degree * one_kilometer"
   ]
  },
  {
   "cell_type": "code",
   "execution_count": 71,
   "metadata": {},
   "outputs": [],
   "source": [
    "df_with_error_info['diff_meters'] = np.sqrt(df_with_error_info['lat_diff_meters']**2 + df_with_error_info['lon_diff_meters']**2)"
   ]
  },
  {
   "cell_type": "markdown",
   "metadata": {},
   "source": [
    "## Resultados"
   ]
  },
  {
   "cell_type": "code",
   "execution_count": 67,
   "metadata": {},
   "outputs": [
    {
     "ename": "KeyError",
     "evalue": "'lon'",
     "output_type": "error",
     "traceback": [
      "\u001b[0;31m---------------------------------------------------------------------------\u001b[0m",
      "\u001b[0;31mKeyError\u001b[0m                                  Traceback (most recent call last)",
      "File \u001b[0;32m~/facul/comunicacoes-moveis/venv/lib/python3.10/site-packages/pandas/core/indexes/base.py:3805\u001b[0m, in \u001b[0;36mIndex.get_loc\u001b[0;34m(self, key)\u001b[0m\n\u001b[1;32m   3804\u001b[0m \u001b[38;5;28;01mtry\u001b[39;00m:\n\u001b[0;32m-> 3805\u001b[0m     \u001b[38;5;28;01mreturn\u001b[39;00m \u001b[38;5;28;43mself\u001b[39;49m\u001b[38;5;241;43m.\u001b[39;49m\u001b[43m_engine\u001b[49m\u001b[38;5;241;43m.\u001b[39;49m\u001b[43mget_loc\u001b[49m\u001b[43m(\u001b[49m\u001b[43mcasted_key\u001b[49m\u001b[43m)\u001b[49m\n\u001b[1;32m   3806\u001b[0m \u001b[38;5;28;01mexcept\u001b[39;00m \u001b[38;5;167;01mKeyError\u001b[39;00m \u001b[38;5;28;01mas\u001b[39;00m err:\n",
      "File \u001b[0;32mindex.pyx:167\u001b[0m, in \u001b[0;36mpandas._libs.index.IndexEngine.get_loc\u001b[0;34m()\u001b[0m\n",
      "File \u001b[0;32mindex.pyx:196\u001b[0m, in \u001b[0;36mpandas._libs.index.IndexEngine.get_loc\u001b[0;34m()\u001b[0m\n",
      "File \u001b[0;32mpandas/_libs/hashtable_class_helper.pxi:7081\u001b[0m, in \u001b[0;36mpandas._libs.hashtable.PyObjectHashTable.get_item\u001b[0;34m()\u001b[0m\n",
      "File \u001b[0;32mpandas/_libs/hashtable_class_helper.pxi:7089\u001b[0m, in \u001b[0;36mpandas._libs.hashtable.PyObjectHashTable.get_item\u001b[0;34m()\u001b[0m\n",
      "\u001b[0;31mKeyError\u001b[0m: 'lon'",
      "\nThe above exception was the direct cause of the following exception:\n",
      "\u001b[0;31mKeyError\u001b[0m                                  Traceback (most recent call last)",
      "Cell \u001b[0;32mIn[67], line 4\u001b[0m\n\u001b[1;32m      1\u001b[0m y_pred_array \u001b[38;5;241m=\u001b[39m np\u001b[38;5;241m.\u001b[39marray(y_pred)\n\u001b[1;32m      3\u001b[0m plt\u001b[38;5;241m.\u001b[39mfigure(figsize\u001b[38;5;241m=\u001b[39m(\u001b[38;5;241m10\u001b[39m, \u001b[38;5;241m10\u001b[39m))\n\u001b[0;32m----> 4\u001b[0m plt\u001b[38;5;241m.\u001b[39mscatter(\u001b[43my_test\u001b[49m\u001b[43m[\u001b[49m\u001b[38;5;124;43m'\u001b[39;49m\u001b[38;5;124;43mlon\u001b[39;49m\u001b[38;5;124;43m'\u001b[39;49m\u001b[43m]\u001b[49m, y_test[\u001b[38;5;124m'\u001b[39m\u001b[38;5;124mlat\u001b[39m\u001b[38;5;124m'\u001b[39m], label\u001b[38;5;241m=\u001b[39m\u001b[38;5;124m'\u001b[39m\u001b[38;5;124mReal\u001b[39m\u001b[38;5;124m'\u001b[39m, alpha\u001b[38;5;241m=\u001b[39m\u001b[38;5;241m0.5\u001b[39m)\n\u001b[1;32m      5\u001b[0m plt\u001b[38;5;241m.\u001b[39mscatter(y_pred_array[:, \u001b[38;5;241m1\u001b[39m], y_pred_array[:, \u001b[38;5;241m0\u001b[39m], label\u001b[38;5;241m=\u001b[39m\u001b[38;5;124m'\u001b[39m\u001b[38;5;124mPredito\u001b[39m\u001b[38;5;124m'\u001b[39m, alpha\u001b[38;5;241m=\u001b[39m\u001b[38;5;241m0.5\u001b[39m)\n\u001b[1;32m      6\u001b[0m plt\u001b[38;5;241m.\u001b[39mxlabel(\u001b[38;5;124m'\u001b[39m\u001b[38;5;124mLongitude\u001b[39m\u001b[38;5;124m'\u001b[39m)\n",
      "File \u001b[0;32m~/facul/comunicacoes-moveis/venv/lib/python3.10/site-packages/pandas/core/frame.py:4090\u001b[0m, in \u001b[0;36mDataFrame.__getitem__\u001b[0;34m(self, key)\u001b[0m\n\u001b[1;32m   4088\u001b[0m \u001b[38;5;28;01mif\u001b[39;00m \u001b[38;5;28mself\u001b[39m\u001b[38;5;241m.\u001b[39mcolumns\u001b[38;5;241m.\u001b[39mnlevels \u001b[38;5;241m>\u001b[39m \u001b[38;5;241m1\u001b[39m:\n\u001b[1;32m   4089\u001b[0m     \u001b[38;5;28;01mreturn\u001b[39;00m \u001b[38;5;28mself\u001b[39m\u001b[38;5;241m.\u001b[39m_getitem_multilevel(key)\n\u001b[0;32m-> 4090\u001b[0m indexer \u001b[38;5;241m=\u001b[39m \u001b[38;5;28;43mself\u001b[39;49m\u001b[38;5;241;43m.\u001b[39;49m\u001b[43mcolumns\u001b[49m\u001b[38;5;241;43m.\u001b[39;49m\u001b[43mget_loc\u001b[49m\u001b[43m(\u001b[49m\u001b[43mkey\u001b[49m\u001b[43m)\u001b[49m\n\u001b[1;32m   4091\u001b[0m \u001b[38;5;28;01mif\u001b[39;00m is_integer(indexer):\n\u001b[1;32m   4092\u001b[0m     indexer \u001b[38;5;241m=\u001b[39m [indexer]\n",
      "File \u001b[0;32m~/facul/comunicacoes-moveis/venv/lib/python3.10/site-packages/pandas/core/indexes/base.py:3812\u001b[0m, in \u001b[0;36mIndex.get_loc\u001b[0;34m(self, key)\u001b[0m\n\u001b[1;32m   3807\u001b[0m     \u001b[38;5;28;01mif\u001b[39;00m \u001b[38;5;28misinstance\u001b[39m(casted_key, \u001b[38;5;28mslice\u001b[39m) \u001b[38;5;129;01mor\u001b[39;00m (\n\u001b[1;32m   3808\u001b[0m         \u001b[38;5;28misinstance\u001b[39m(casted_key, abc\u001b[38;5;241m.\u001b[39mIterable)\n\u001b[1;32m   3809\u001b[0m         \u001b[38;5;129;01mand\u001b[39;00m \u001b[38;5;28many\u001b[39m(\u001b[38;5;28misinstance\u001b[39m(x, \u001b[38;5;28mslice\u001b[39m) \u001b[38;5;28;01mfor\u001b[39;00m x \u001b[38;5;129;01min\u001b[39;00m casted_key)\n\u001b[1;32m   3810\u001b[0m     ):\n\u001b[1;32m   3811\u001b[0m         \u001b[38;5;28;01mraise\u001b[39;00m InvalidIndexError(key)\n\u001b[0;32m-> 3812\u001b[0m     \u001b[38;5;28;01mraise\u001b[39;00m \u001b[38;5;167;01mKeyError\u001b[39;00m(key) \u001b[38;5;28;01mfrom\u001b[39;00m \u001b[38;5;21;01merr\u001b[39;00m\n\u001b[1;32m   3813\u001b[0m \u001b[38;5;28;01mexcept\u001b[39;00m \u001b[38;5;167;01mTypeError\u001b[39;00m:\n\u001b[1;32m   3814\u001b[0m     \u001b[38;5;66;03m# If we have a listlike key, _check_indexing_error will raise\u001b[39;00m\n\u001b[1;32m   3815\u001b[0m     \u001b[38;5;66;03m#  InvalidIndexError. Otherwise we fall through and re-raise\u001b[39;00m\n\u001b[1;32m   3816\u001b[0m     \u001b[38;5;66;03m#  the TypeError.\u001b[39;00m\n\u001b[1;32m   3817\u001b[0m     \u001b[38;5;28mself\u001b[39m\u001b[38;5;241m.\u001b[39m_check_indexing_error(key)\n",
      "\u001b[0;31mKeyError\u001b[0m: 'lon'"
     ]
    },
    {
     "data": {
      "text/plain": [
       "<Figure size 1000x1000 with 0 Axes>"
      ]
     },
     "metadata": {},
     "output_type": "display_data"
    }
   ],
   "source": [
    "y_pred_array = np.array(y_pred)\n",
    "\n",
    "plt.figure(figsize=(10, 10))\n",
    "plt.scatter(y_test['lon'], y_test['lat'], label='Real', alpha=0.5)\n",
    "plt.scatter(y_pred_array[:, 1], y_pred_array[:, 0], label='Predito', alpha=0.5)\n",
    "plt.xlabel('Longitude')\n",
    "plt.ylabel('Latitude')\n",
    "plt.title('Posições Preditas vs. Posições Reais')\n",
    "plt.legend()\n",
    "plt.show()"
   ]
  },
  {
   "cell_type": "code",
   "execution_count": 72,
   "metadata": {},
   "outputs": [
    {
     "name": "stdout",
     "output_type": "stream",
     "text": [
      "Média de erro: 38742052.75 metros\n",
      "Mínimo de erro: 12871471.72 metros\n",
      "Máximo de erro: 55085163.28 metros\n",
      "Desvio padrão dos erros: 6876883.46 metros\n"
     ]
    }
   ],
   "source": [
    "mean_diff_meters = df_with_error_info['diff_meters'].mean()\n",
    "min_diff_meters = df_with_error_info['diff_meters'].min()\n",
    "max_diff_meters = df_with_error_info['diff_meters'].max()\n",
    "std_diff_meters = df_with_error_info['diff_meters'].std()\n",
    "\n",
    "print(f\"Média de erro: {mean_diff_meters:.2f} metros\")\n",
    "print(f\"Mínimo de erro: {min_diff_meters:.2f} metros\")\n",
    "print(f\"Máximo de erro: {max_diff_meters:.2f} metros\")\n",
    "print(f\"Desvio padrão dos erros: {std_diff_meters:.2f} metros\")"
   ]
  },
  {
   "cell_type": "markdown",
   "metadata": {},
   "source": [
    "#### Gráficos dos erros"
   ]
  },
  {
   "cell_type": "code",
   "execution_count": 29,
   "metadata": {},
   "outputs": [
    {
     "data": {
      "image/png": "[encoded data removed]",
      "text/plain": [
       "<Figure size 640x480 with 1 Axes>"
      ]
     },
     "metadata": {},
     "output_type": "display_data"
    }
   ],
   "source": [
    "# Histograma e Box-Plot dos Erros\n",
    "plt.boxplot(df_with_error_info['diff_meters'])\n",
    "plt.ylabel('Erro (metros)')\n",
    "plt.title('Box-plot dos Erros')\n",
    "plt.show()"
   ]
  },
  {
   "cell_type": "code",
   "execution_count": 37,
   "metadata": {},
   "outputs": [
    {
     "data": {
      "image/png": "[encoded data removed]",
      "text/plain": [
       "<Figure size 3000x1000 with 1 Axes>"
      ]
     },
     "metadata": {},
     "output_type": "display_data"
    }
   ],
   "source": [
    "plt.figure(figsize=(30, 10))\n",
    "plt.hist(df_with_error_info['diff_meters'], bins=100)\n",
    "\n",
    "plt.xlabel('Distância do erro (metros)')\n",
    "plt.ylabel('Quantidade de pontos')\n",
    "plt.title('Histograma da distância entre as cordenadas reais e preditas')\n",
    "\n",
    "plt.grid(True)\n",
    "plt.show()"
   ]
  },
  {
   "cell_type": "markdown",
   "metadata": {},
   "source": [
    "## Gerar submit file"
   ]
  },
  {
   "cell_type": "code",
   "execution_count": 30,
   "metadata": {},
   "outputs": [],
   "source": [
    "meds_test = pd.read_csv('../data/meds_test_alunos.csv')"
   ]
  },
  {
   "cell_type": "code",
   "execution_count": 35,
   "metadata": {},
   "outputs": [],
   "source": [
    "X_test = meds_test[['rssi_1_1', 'rssi_1_2', 'rssi_1_3', 'rssi_2_1', 'rssi_2_2', 'rssi_2_3', 'rssi_3_1', 'rssi_3_2', 'rssi_3_3']]\n",
    "\n",
    "y_pred_test = knn.predict(X_test)"
   ]
  },
  {
   "cell_type": "code",
   "execution_count": 36,
   "metadata": {},
   "outputs": [],
   "source": [
    "submit_df = pd.DataFrame({'ponto_id': meds_test['ponto_id'], 'lat_pred': y_pred_test[:, 0], 'lon_pred': y_pred_test[:, 1]})\n",
    "submit_df.to_csv('../submit_files/knn_submit_alunos.csv', index=False)"
   ]
  }
 ],
 "metadata": {
  "kernelspec": {
   "display_name": "venv",
   "language": "python",
   "name": "python3"
  },
  "language_info": {
   "codemirror_mode": {
    "name": "ipython",
    "version": 3
   },
   "file_extension": ".py",
   "mimetype": "text/x-python",
   "name": "python",
   "nbconvert_exporter": "python",
   "pygments_lexer": "ipython3",
   "version": "3.10.12"
  }
 },
 "nbformat": 4,
 "nbformat_minor": 2
}
